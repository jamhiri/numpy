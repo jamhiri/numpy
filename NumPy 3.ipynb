{
 "cells": [
  {
   "cell_type": "markdown",
   "metadata": {},
   "source": [
    "### <span style=\"color:red\"> File Input and Output with Arrays </span> \n",
    "NumPy is able to save and load data from disk either in text or binary format."
   ]
  },
  {
   "cell_type": "code",
   "execution_count": 1,
   "metadata": {},
   "outputs": [],
   "source": [
    "import numpy as np"
   ]
  },
  {
   "cell_type": "markdown",
   "metadata": {},
   "source": [
    "##### <span style=\"color:red\"> Storing Arrays on Disk in Binary Format </span>\n",
    "\n",
    "<span style=\"color:darkorange\">np.save</span> and <span style=\"color:darkorange\">np.load</span> are the two workhorse functions for efficiently saving and loading array data on disk. they are saved by default with .npy format"
   ]
  },
  {
   "cell_type": "code",
   "execution_count": 2,
   "metadata": {},
   "outputs": [],
   "source": [
    "arr = np.arange(9).reshape(3,3)\n",
    "arr2 = np.arange(6)\n",
    "arr3 = np.arange(4).reshape(2,2)"
   ]
  },
  {
   "cell_type": "code",
   "execution_count": 3,
   "metadata": {},
   "outputs": [],
   "source": [
    "np.save('some_array', arr)"
   ]
  },
  {
   "cell_type": "code",
   "execution_count": 4,
   "metadata": {},
   "outputs": [
    {
     "data": {
      "text/plain": [
       "array([[0, 1, 2],\n",
       "       [3, 4, 5],\n",
       "       [6, 7, 8]])"
      ]
     },
     "execution_count": 4,
     "metadata": {},
     "output_type": "execute_result"
    }
   ],
   "source": [
    "np.load('some_array.npy') "
   ]
  },
  {
   "cell_type": "code",
   "execution_count": 5,
   "metadata": {},
   "outputs": [],
   "source": [
    "np.savez('array_archive.npz', a=arr, b=arr2 , c=arr3) "
   ]
  },
  {
   "cell_type": "code",
   "execution_count": 6,
   "metadata": {},
   "outputs": [],
   "source": [
    "arch = np.load('array_archive.npz')"
   ]
  },
  {
   "cell_type": "code",
   "execution_count": 7,
   "metadata": {},
   "outputs": [
    {
     "data": {
      "text/plain": [
       "array([[0, 1, 2],\n",
       "       [3, 4, 5],\n",
       "       [6, 7, 8]])"
      ]
     },
     "execution_count": 7,
     "metadata": {},
     "output_type": "execute_result"
    }
   ],
   "source": [
    "arch['a']"
   ]
  },
  {
   "cell_type": "markdown",
   "metadata": {},
   "source": [
    "##### <span style=\"color:red\">Saving and Loading Text Files </span>"
   ]
  },
  {
   "cell_type": "code",
   "execution_count": 8,
   "metadata": {},
   "outputs": [
    {
     "data": {
      "text/plain": [
       "_io.TextIOWrapper"
      ]
     },
     "execution_count": 8,
     "metadata": {},
     "output_type": "execute_result"
    }
   ],
   "source": [
    "f = open('array_ex.txt' , 'w')\n",
    "type(f)"
   ]
  },
  {
   "cell_type": "code",
   "execution_count": 9,
   "metadata": {},
   "outputs": [],
   "source": [
    "f.write('0.580052,0.186730,1.040717,1.134411, 0.194163,-0.636917,-0.938659,0.124094 ,-0.126410,0.268607,-0.695724,0.047428 ,-1.484413,0.004176,-0.744203,0.005487, 2.302869,0.200131,1.670238,-1.881090 ,-0.193230,1.047233,0.482803,0.960334')\n",
    "f.close()"
   ]
  },
  {
   "cell_type": "code",
   "execution_count": 10,
   "metadata": {},
   "outputs": [
    {
     "data": {
      "text/plain": [
       "array([ 0.580052,  0.18673 ,  1.040717,  1.134411,  0.194163, -0.636917,\n",
       "       -0.938659,  0.124094, -0.12641 ,  0.268607, -0.695724,  0.047428,\n",
       "       -1.484413,  0.004176, -0.744203,  0.005487,  2.302869,  0.200131,\n",
       "        1.670238, -1.88109 , -0.19323 ,  1.047233,  0.482803,  0.960334])"
      ]
     },
     "execution_count": 10,
     "metadata": {},
     "output_type": "execute_result"
    }
   ],
   "source": [
    "np.loadtxt('array_ex.txt', dtype='float64' ,delimiter=',' )"
   ]
  },
  {
   "cell_type": "markdown",
   "metadata": {},
   "source": [
    "##### <span style=\"color:red\">Linear Algebra </span>\n",
    "\n",
    "<span style=\"color:crimson\">functions and their description </span>\n",
    "\n",
    "<span style=\"color:purple\">diag:</span> Return the diagonal (or off-diagonal) elements of a square matrix as a 1D array, or convert a 1D array into a square matrix with zeros on the off-diagonal \n",
    "\n",
    "<span style=\"color:purple\">dot:</span>  Matrix multiplicatio\n",
    "\n",
    "<span style=\"color:purple\">trace:</span> Compute the sum of the diagonal elements \n",
    "\n",
    "<span style=\"color:purple\">det:</span> Compute the matrix determinant \n",
    "\n",
    "<span style=\"color:purple\">eig:</span> Compute the eigenvalues and eigenvectors of a square matrix \n",
    "\n",
    "<span style=\"color:purple\">inv:</span> Compute the inverse of a square matrix\n",
    "\n",
    "<span style=\"color:purple\">pinv:</span> Compute the Moore-Penrose pseudo-inverse inverse of a square matrix \n",
    "\n",
    "<span style=\"color:purple\">qr:</span> Compute the QR decomposition \n",
    "\n",
    "<span style=\"color:purple\">svd:</span> Compute the singular value decomposition (SVD) \n",
    "\n",
    "<span style=\"color:purple\">solve:</span> Solve the linear system Ax = b for x, where A is a square matrix \n",
    "\n",
    "<span style=\"color:purple\">lstsq:</span> Compute the least-squares solution to y = Xb\n"
   ]
  },
  {
   "cell_type": "code",
   "execution_count": 11,
   "metadata": {},
   "outputs": [],
   "source": [
    "x = np.array([[1., 2., 3.], [4., 5., 6.]])\n",
    "y = np.array([[6., 23.], [-1, 7], [8, 9]])"
   ]
  },
  {
   "cell_type": "code",
   "execution_count": 12,
   "metadata": {},
   "outputs": [
    {
     "data": {
      "text/plain": [
       "array([[1., 2., 3.],\n",
       "       [4., 5., 6.]])"
      ]
     },
     "execution_count": 12,
     "metadata": {},
     "output_type": "execute_result"
    }
   ],
   "source": [
    "x"
   ]
  },
  {
   "cell_type": "code",
   "execution_count": 13,
   "metadata": {},
   "outputs": [
    {
     "data": {
      "text/plain": [
       "array([[ 6., 23.],\n",
       "       [-1.,  7.],\n",
       "       [ 8.,  9.]])"
      ]
     },
     "execution_count": 13,
     "metadata": {},
     "output_type": "execute_result"
    }
   ],
   "source": [
    "y"
   ]
  },
  {
   "cell_type": "code",
   "execution_count": 14,
   "metadata": {},
   "outputs": [
    {
     "data": {
      "text/plain": [
       "array([[ 28.,  64.],\n",
       "       [ 67., 181.]])"
      ]
     },
     "execution_count": 14,
     "metadata": {},
     "output_type": "execute_result"
    }
   ],
   "source": [
    "x.dot(y)  # equivalently np.dot(x, y)"
   ]
  },
  {
   "cell_type": "markdown",
   "metadata": {},
   "source": [
    "numpy.linalg has a standard set of matrix decompositions and things like inverse and determinant."
   ]
  },
  {
   "cell_type": "code",
   "execution_count": 15,
   "metadata": {},
   "outputs": [],
   "source": [
    "from numpy.linalg import inv, qr"
   ]
  },
  {
   "cell_type": "code",
   "execution_count": 16,
   "metadata": {},
   "outputs": [],
   "source": [
    "x = np.random.randn(3,3)"
   ]
  },
  {
   "cell_type": "code",
   "execution_count": 17,
   "metadata": {},
   "outputs": [],
   "source": [
    "mat = x.T.dot(x)"
   ]
  },
  {
   "cell_type": "code",
   "execution_count": 18,
   "metadata": {},
   "outputs": [
    {
     "data": {
      "text/plain": [
       "array([[ 2.2172624 , -0.25886371,  2.00779695],\n",
       "       [-0.25886371,  4.57145357,  1.38645704],\n",
       "       [ 2.00779695,  1.38645704,  3.47449362]])"
      ]
     },
     "execution_count": 18,
     "metadata": {},
     "output_type": "execute_result"
    }
   ],
   "source": [
    "mat"
   ]
  },
  {
   "cell_type": "code",
   "execution_count": 19,
   "metadata": {},
   "outputs": [
    {
     "data": {
      "text/plain": [
       "array([[ 1.28639396,  0.33936674, -0.87878569],\n",
       "       [ 0.33936674,  0.3383966 , -0.33114231],\n",
       "       [-0.87878569, -0.33114231,  0.92777198]])"
      ]
     },
     "execution_count": 19,
     "metadata": {},
     "output_type": "execute_result"
    }
   ],
   "source": [
    "inv(mat)"
   ]
  },
  {
   "cell_type": "code",
   "execution_count": 20,
   "metadata": {},
   "outputs": [],
   "source": [
    "r = qr(mat)"
   ]
  },
  {
   "cell_type": "code",
   "execution_count": 21,
   "metadata": {},
   "outputs": [
    {
     "data": {
      "text/plain": [
       "(array([[-0.73849234,  0.1071525 , -0.66569318],\n",
       "        [ 0.08621842, -0.96418   , -0.25084521],\n",
       "        [-0.66872674, -0.24264228,  0.70280102]]),\n",
       " array([[-3.00241762, -0.34184853, -3.68669131],\n",
       "        [ 0.        , -4.77185508, -1.96471272],\n",
       "        [ 0.        ,  0.        ,  0.75751482]]))"
      ]
     },
     "execution_count": 21,
     "metadata": {},
     "output_type": "execute_result"
    }
   ],
   "source": [
    "r"
   ]
  },
  {
   "cell_type": "markdown",
   "metadata": {},
   "source": [
    "##### <span style=\"color:red\"> Random Number Generation </span>\n",
    "\n",
    "The <span style=\"color:darkorange\">numpy.random </span>module supplements the built-in Python random with functions for efficiently generating whole arrays of sample values from many kinds of probability distributions."
   ]
  },
  {
   "cell_type": "markdown",
   "metadata": {},
   "source": [
    "<span style=\"color:crimson\">Partial list of numpy.random functions </span>\n",
    "\n",
    "<span style=\"color:darkviolet\">seed:</span> Seed the random number generator \n",
    "\n",
    "<span style=\"color:darkviolet\">permutation:</span> Return a random permutation of a sequence, or return a permuted range \n",
    "\n",
    "<span style=\"color:darkviolet\">shuffle:</span> Randomly permute a sequence in place \n",
    "\n",
    "<span style=\"color:darkviolet\">rand:</span> Draw samples from a uniform distribution \n",
    "\n",
    "<span style=\"color:darkviolet\">randint:</span> Draw random integers from a given low-to-high range\n",
    "\n",
    "<span style=\"color:darkviolet\">randn:</span> Draw samples from a normal distribution with mean 0 and standard \n",
    "\n",
    "<span style=\"color:darkviolet\">binomial:</span> Draw samples a binomial distribution\n",
    "\n",
    "<span style=\"color:darkviolet\">normal:</span> Draw samples from a normal (Gaussian) distribution \n",
    "\n",
    "<span style=\"color:darkviolet\">beta:</span> Draw samples from a beta distribution \n",
    "\n",
    "<span style=\"color:darkviolet\">chisquare:</span> Draw samples from a chi-square distribution \n",
    "\n",
    "<span style=\"color:darkviolet\">gamma:</span> Draw samples from a gamma distribution \n",
    "\n",
    "<span style=\"color:darkviolet\">uniform:</span> Draw samples from a uniform [0, 1) distribution"
   ]
  },
  {
   "cell_type": "code",
   "execution_count": 22,
   "metadata": {},
   "outputs": [
    {
     "data": {
      "text/plain": [
       "array([[ 0.22060875,  1.35112151, -2.07434395,  1.03304592],\n",
       "       [ 1.20327905,  1.11836371,  0.42388545, -0.10101365],\n",
       "       [-1.36758781,  0.04368045,  1.90333014, -0.31337932],\n",
       "       [-1.9157095 , -0.57526992,  0.58308493, -1.17848322]])"
      ]
     },
     "execution_count": 22,
     "metadata": {},
     "output_type": "execute_result"
    }
   ],
   "source": [
    "s = np.random.normal(size=(4, 4))\n",
    "s"
   ]
  },
  {
   "cell_type": "code",
   "execution_count": 23,
   "metadata": {},
   "outputs": [],
   "source": [
    "from random import normalvariate"
   ]
  },
  {
   "cell_type": "code",
   "execution_count": 27,
   "metadata": {},
   "outputs": [],
   "source": [
    "N = 1000000"
   ]
  },
  {
   "cell_type": "code",
   "execution_count": 31,
   "metadata": {},
   "outputs": [],
   "source": [
    "samples = [normalvariate(0, 1) for _ in range(N)] #for large samples"
   ]
  },
  {
   "cell_type": "code",
   "execution_count": 32,
   "metadata": {},
   "outputs": [],
   "source": [
    "ss = np.random.normal(size=N) "
   ]
  },
  {
   "cell_type": "markdown",
   "metadata": {},
   "source": [
    "##### <span style=\"color:red\">Example: Random Walks </span>\n",
    "\n",
    "An illustrative application of utilizing array operations is in the simulation of random walks. Let’s first consider a simple random walk starting at 0 with steps of 1 and -1 occurring with equal probability. A pure Python way to implement a single random walk with 1,000 steps using the built-in random module:"
   ]
  },
  {
   "cell_type": "code",
   "execution_count": 40,
   "metadata": {},
   "outputs": [],
   "source": [
    "import random\n",
    "position = 0\n",
    "walk = [position] \n",
    "steps = 1000 \n",
    "for i in range(steps):   \n",
    "    step = 1 if random.randint(0, 1) else -1    \n",
    "    position += step   \n",
    "    walk.append(position) "
   ]
  },
  {
   "cell_type": "markdown",
   "metadata": {},
   "source": [
    "use the np.random module to draw 1,000 coin flips at once, set these to 1 and -1, and compute the cumulative sum: "
   ]
  },
  {
   "cell_type": "code",
   "execution_count": 48,
   "metadata": {},
   "outputs": [],
   "source": [
    "nsteps = 1000"
   ]
  },
  {
   "cell_type": "code",
   "execution_count": 55,
   "metadata": {},
   "outputs": [],
   "source": [
    "draws = np.random.randint(0, 2, size=nsteps)"
   ]
  },
  {
   "cell_type": "code",
   "execution_count": 56,
   "metadata": {},
   "outputs": [],
   "source": [
    "steps = np.where(draws > 0, 1, -1)"
   ]
  },
  {
   "cell_type": "code",
   "execution_count": 57,
   "metadata": {},
   "outputs": [],
   "source": [
    "walk = steps.cumsum()"
   ]
  },
  {
   "cell_type": "code",
   "execution_count": 58,
   "metadata": {},
   "outputs": [
    {
     "data": {
      "text/plain": [
       "-17"
      ]
     },
     "execution_count": 58,
     "metadata": {},
     "output_type": "execute_result"
    }
   ],
   "source": [
    "walk.min()"
   ]
  },
  {
   "cell_type": "code",
   "execution_count": 59,
   "metadata": {},
   "outputs": [
    {
     "data": {
      "text/plain": [
       "19"
      ]
     },
     "execution_count": 59,
     "metadata": {},
     "output_type": "execute_result"
    }
   ],
   "source": [
    "walk.max()"
   ]
  },
  {
   "cell_type": "code",
   "execution_count": 60,
   "metadata": {},
   "outputs": [
    {
     "data": {
      "text/plain": [
       "23"
      ]
     },
     "execution_count": 60,
     "metadata": {},
     "output_type": "execute_result"
    }
   ],
   "source": [
    "(np.abs(walk) >= 10).argmax() "
   ]
  }
 ],
 "metadata": {
  "kernelspec": {
   "display_name": "Python 3",
   "language": "python",
   "name": "python3"
  },
  "language_info": {
   "codemirror_mode": {
    "name": "ipython",
    "version": 3
   },
   "file_extension": ".py",
   "mimetype": "text/x-python",
   "name": "python",
   "nbconvert_exporter": "python",
   "pygments_lexer": "ipython3",
   "version": "3.7.1"
  }
 },
 "nbformat": 4,
 "nbformat_minor": 2
}
